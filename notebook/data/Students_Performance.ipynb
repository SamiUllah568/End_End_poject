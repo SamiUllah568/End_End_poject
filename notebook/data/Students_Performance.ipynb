{
 "cells": [
  {
   "cell_type": "markdown",
   "metadata": {
    "id": "BEy4mfTOBOOI"
   },
   "source": [
    "# **Student Performance Indicator**\n",
    "## **Life cycle of Machine learning Project**\n",
    "\n",
    "\n",
    "*   Understanding the Problem Statement\n",
    "*   Data Collection\n",
    "\n",
    "*   Data Checks to perform\n",
    "*   Exploratory data analysis\n",
    "\n",
    "*   Data Pre-Processing\n",
    "*   Model Training\n",
    "\n",
    "*   Choose best model\n",
    "\n",
    "**1) Problem statement**\n",
    "\n",
    "*   This project understands how the student's performance (test scores) is affected by other variables such as Gender, Ethnicity, Parental level of education, Lunch and Test preparation course.\n",
    "\n",
    "**2) Data Collection**\n",
    "*   Dataset Source - https://www.kaggle.com/datasets/spscientist/students-performance-in-exams?datasetId=74977\n",
    "The data consists of 8 column and 1000 rows."
   ]
  },
  {
   "cell_type": "markdown",
   "metadata": {
    "id": "e-xxuXvBCX7a"
   },
   "source": [
    "# **Import Data and Required Packages**"
   ]
  },
  {
   "cell_type": "code",
   "execution_count": null,
   "metadata": {
    "id": "ywfwl9NaVwwW"
   },
   "outputs": [],
   "source": [
    "import numpy as np\n",
    "import pandas as pd\n",
    "import seaborn as sns\n",
    "import matplotlib.pyplot as plt\n",
    "%matplotlib inline\n",
    "import warnings\n",
    "warnings.filterwarnings('ignore')\n",
    "\n",
    "# Modelling\n",
    "from sklearn.neighbors import KNeighborsRegressor\n",
    "from sklearn.tree import DecisionTreeRegressor\n",
    "from sklearn.ensemble import RandomForestRegressor,AdaBoostRegressor\n",
    "from sklearn.svm import SVR\n",
    "from sklearn.linear_model import LinearRegression, Ridge,Lasso\n",
    "from sklearn.metrics import r2_score, mean_absolute_error, mean_squared_error\n",
    "from sklearn.model_selection import train_test_split ,RandomizedSearchCV\n",
    "from catboost import CatBoostRegressor\n",
    "from xgboost import XGBRegressor"
   ]
  },
  {
   "cell_type": "markdown",
   "metadata": {
    "id": "jj47E7oFCs8W"
   },
   "source": [
    "**Import the csv DataSet**"
   ]
  },
  {
   "cell_type": "code",
   "execution_count": 3,
   "metadata": {
    "id": "G4c9RFtTV-Hf"
   },
   "outputs": [
    {
     "name": "stderr",
     "output_type": "stream",
     "text": [
      "<>:1: SyntaxWarning: invalid escape sequence '\\d'\n",
      "<>:1: SyntaxWarning: invalid escape sequence '\\d'\n",
      "C:\\Users\\FutureTech\\AppData\\Local\\Temp\\ipykernel_744\\136566416.py:1: SyntaxWarning: invalid escape sequence '\\d'\n",
      "  data = pd.read_csv(\"notebook\\data\\StudentsPerformance.csv\")\n"
     ]
    },
    {
     "ename": "NameError",
     "evalue": "name 'pd' is not defined",
     "output_type": "error",
     "traceback": [
      "\u001b[1;31m---------------------------------------------------------------------------\u001b[0m",
      "\u001b[1;31mNameError\u001b[0m                                 Traceback (most recent call last)",
      "Cell \u001b[1;32mIn[3], line 1\u001b[0m\n\u001b[1;32m----> 1\u001b[0m data \u001b[38;5;241m=\u001b[39m \u001b[43mpd\u001b[49m\u001b[38;5;241m.\u001b[39mread_csv(\u001b[38;5;124m\"\u001b[39m\u001b[38;5;124mnotebook\u001b[39m\u001b[38;5;124m\\\u001b[39m\u001b[38;5;124mdata\u001b[39m\u001b[38;5;124m\\\u001b[39m\u001b[38;5;124mStudentsPerformance.csv\u001b[39m\u001b[38;5;124m\"\u001b[39m)\n",
      "\u001b[1;31mNameError\u001b[0m: name 'pd' is not defined"
     ]
    }
   ],
   "source": [
    "data = pd.read_csv(\"notebook\\data\\StudentsPerformance.csv\")"
   ]
  },
  {
   "cell_type": "markdown",
   "metadata": {
    "id": "k_YYW_zuC79m"
   },
   "source": [
    "**Show Top 5 Rows**"
   ]
  },
  {
   "cell_type": "code",
   "execution_count": null,
   "metadata": {
    "colab": {
     "base_uri": "https://localhost:8080/",
     "height": 206
    },
    "id": "Trw-0eR3C5LM",
    "outputId": "8eab8e53-c5c5-4892-d361-5956a0650632"
   },
   "outputs": [],
   "source": [
    "data.head()"
   ]
  },
  {
   "cell_type": "markdown",
   "metadata": {
    "id": "wR5f317eDLq3"
   },
   "source": [
    "**Show Last 5 ROws**"
   ]
  },
  {
   "cell_type": "code",
   "execution_count": null,
   "metadata": {
    "colab": {
     "base_uri": "https://localhost:8080/",
     "height": 206
    },
    "id": "NLP3S37wAZaI",
    "outputId": "a76a0537-9ff0-42d2-df11-8a329c98f72f"
   },
   "outputs": [],
   "source": [
    "data.tail(5)"
   ]
  },
  {
   "cell_type": "code",
   "execution_count": null,
   "metadata": {
    "colab": {
     "base_uri": "https://localhost:8080/"
    },
    "id": "Vtgr0fS3FDlM",
    "outputId": "cef12f3f-97b2-4636-de11-7daf004f65af"
   },
   "outputs": [],
   "source": [
    "data.shape"
   ]
  },
  {
   "cell_type": "markdown",
   "metadata": {
    "id": "5MBSLSRnFLPk"
   },
   "source": [
    "# **Dataset information**\n",
    "\n",
    "\n",
    "*   **gender** : sex of students -> (Male/female)\n",
    "\n",
    "*   **race/ethnicity** : ethnicity of students -> (Group A, B,C, D,E)\n",
    "*   **parental level of education** : parents' final education ->(bachelor's degree,some college,master's degree,associate's degree,high school)\n",
    "*   **parental level of education** : parents' final education ->(bachelor's degree,some college,master's degree,associate's degree,high school)\n",
    "*   **test preparation course** : complete or not complete before test\n",
    "*   **math score**\n",
    "*   **reading score**\n",
    "*   **writing score**\n"
   ]
  },
  {
   "cell_type": "markdown",
   "metadata": {
    "id": "wsYRH-K1AWxP"
   },
   "source": [
    "**Check MissingValues   and   DuplicteValues**"
   ]
  },
  {
   "cell_type": "code",
   "execution_count": 2,
   "metadata": {
    "colab": {
     "base_uri": "https://localhost:8080/",
     "height": 335
    },
    "id": "nuBMoC-5WHpU",
    "outputId": "72f41acc-19d3-4170-fce3-076d7e7badae"
   },
   "outputs": [
    {
     "ename": "NameError",
     "evalue": "name 'data' is not defined",
     "output_type": "error",
     "traceback": [
      "\u001b[1;31m---------------------------------------------------------------------------\u001b[0m",
      "\u001b[1;31mNameError\u001b[0m                                 Traceback (most recent call last)",
      "Cell \u001b[1;32mIn[2], line 1\u001b[0m\n\u001b[1;32m----> 1\u001b[0m \u001b[43mdata\u001b[49m\u001b[38;5;241m.\u001b[39misnull()\u001b[38;5;241m.\u001b[39msum()\n",
      "\u001b[1;31mNameError\u001b[0m: name 'data' is not defined"
     ]
    }
   ],
   "source": [
    "data.isnull().sum()"
   ]
  },
  {
   "cell_type": "markdown",
   "metadata": {
    "id": "3ka2JWsnAzqn"
   },
   "source": [
    "No Null Value in DataSet"
   ]
  },
  {
   "cell_type": "code",
   "execution_count": null,
   "metadata": {
    "colab": {
     "base_uri": "https://localhost:8080/"
    },
    "id": "mAlZ3w5IAnMR",
    "outputId": "794417c4-1659-4133-b693-952cf464d63b"
   },
   "outputs": [],
   "source": [
    "data.duplicated().sum()"
   ]
  },
  {
   "cell_type": "markdown",
   "metadata": {
    "id": "8XKgGWohA_El"
   },
   "source": [
    "No Duplicate value in DataSet"
   ]
  },
  {
   "cell_type": "markdown",
   "metadata": {
    "id": "9hPmyHrXGkW0"
   },
   "source": [
    "**Check DataTypes**"
   ]
  },
  {
   "cell_type": "code",
   "execution_count": null,
   "metadata": {
    "colab": {
     "base_uri": "https://localhost:8080/"
    },
    "id": "TkHEFJ41A9cQ",
    "outputId": "00482c9e-d643-4119-a488-9c5020f031ce"
   },
   "outputs": [],
   "source": [
    "data.info()"
   ]
  },
  {
   "cell_type": "markdown",
   "metadata": {
    "id": "lRVtJ5I7E9qr"
   },
   "source": [
    "**Check number of unique values in eaxh object column**"
   ]
  },
  {
   "cell_type": "code",
   "execution_count": null,
   "metadata": {
    "colab": {
     "base_uri": "https://localhost:8080/"
    },
    "id": "SROVXLs6DVzW",
    "outputId": "26e98892-e3b3-497f-ed2e-272d7c18be56"
   },
   "outputs": [],
   "source": [
    "for i in data.columns:\n",
    "  if data[i].dtypes == \"object\":\n",
    "    print(f\"Number of NUnique Values in {[i]} feature is  -->>  {data[i].nunique()} and values -->> {data[i].unique()}\")"
   ]
  },
  {
   "cell_type": "markdown",
   "metadata": {
    "id": "uK23FbBTIBSk"
   },
   "source": [
    "**Check statistics of data set**"
   ]
  },
  {
   "cell_type": "code",
   "execution_count": null,
   "metadata": {
    "colab": {
     "base_uri": "https://localhost:8080/",
     "height": 300
    },
    "id": "9UTd4nCFHc4U",
    "outputId": "48f4b5e3-674c-4cfe-e152-ccf85fb85326"
   },
   "outputs": [],
   "source": [
    "data.describe()"
   ]
  },
  {
   "cell_type": "markdown",
   "metadata": {
    "id": "8kz7t8BGI6XN"
   },
   "source": [
    "**Exploring Data**"
   ]
  },
  {
   "cell_type": "code",
   "execution_count": null,
   "metadata": {
    "colab": {
     "base_uri": "https://localhost:8080/"
    },
    "id": "5i57NE8OIOTc",
    "outputId": "5350867c-857d-40c7-e1bd-241a7c6349c4"
   },
   "outputs": [],
   "source": [
    "num_feature = [feature for feature in data.columns if data[feature].dtypes != \"O\"]\n",
    "cet_featue = [feature for feature in data.columns if data[feature].dtypes==\"O\"]\n",
    "\n",
    "print(\"We have {} numerical features {}\".format(len(num_feature) , num_feature))\n",
    "print(\"We have {} cetogorial feature {}\".format(len(cet_featue) , cet_featue))"
   ]
  },
  {
   "cell_type": "markdown",
   "metadata": {
    "id": "JIzACS_PLmKt"
   },
   "source": [
    "**Adding \"Total_Score and Average\" Columns**"
   ]
  },
  {
   "cell_type": "code",
   "execution_count": null,
   "metadata": {
    "id": "j3awUkYzDXoQ"
   },
   "outputs": [],
   "source": [
    "data[\"Total_Score\"] = data[\"math score\"] + data[\"reading score\"] + data[\"writing score\"]\n",
    "data[\"Average\"] = data[\"Total_Score\"]/3"
   ]
  },
  {
   "cell_type": "code",
   "execution_count": null,
   "metadata": {
    "colab": {
     "base_uri": "https://localhost:8080/",
     "height": 206
    },
    "id": "RQUWM3LJMISw",
    "outputId": "d5d42d84-e250-4531-e14e-d569f777398d"
   },
   "outputs": [],
   "source": [
    "data.head(5)"
   ]
  },
  {
   "cell_type": "code",
   "execution_count": null,
   "metadata": {
    "colab": {
     "base_uri": "https://localhost:8080/"
    },
    "id": "91JdtkfCMMoW",
    "outputId": "999ea50d-dcbc-4124-9b63-131f46d296e8"
   },
   "outputs": [],
   "source": [
    "math_less_20 = data[data[\"math score\"]<=20][\"Average\"].count()\n",
    "reading_less_20 = data[data[\"reading score\"]<=20][\"Average\"].count()\n",
    "writing_less_20 = data[data['writing score']<=20][\"Average\"].count()\n",
    "\n",
    "print(\"Number of Student with less then 20 score in math  -->> \",math_less_20)\n",
    "print(\"Number of Student with less then 20 score in reading -->> \",reading_less_20)\n",
    "print(\"Number of Student with less then 20 score in writing -->> \",writing_less_20)"
   ]
  },
  {
   "cell_type": "code",
   "execution_count": null,
   "metadata": {
    "colab": {
     "base_uri": "https://localhost:8080/"
    },
    "id": "3nCAgt6bMpUn",
    "outputId": "99e2dd6d-a980-497a-fb88-8ccc4fb0de0e"
   },
   "outputs": [],
   "source": [
    "math_full_100 = data[data[\"math score\"]==100][\"Average\"].count()\n",
    "reading_full_100 = data[data[\"reading score\"]==100][\"Average\"].count()\n",
    "writing_full_100 = data[data[\"writing score\"]==100][\"Average\"].count()\n",
    "\n",
    "print(\"Number of Student with score in math  -->> \",math_full_100)\n",
    "print(\"Number of Student with score in math  -->> \",reading_full_100)\n",
    "print(\"Number of Student with score in math  -->> \",writing_full_100)"
   ]
  },
  {
   "cell_type": "markdown",
   "metadata": {
    "id": "gbZ84bUyQCPW"
   },
   "source": [
    "**Insights**\n",
    "\n",
    "*   From above values we get students have performed the worst in Maths\n",
    "*   Best performance is in reading section"
   ]
  },
  {
   "cell_type": "markdown",
   "metadata": {
    "id": "cpbnm3K6QRxm"
   },
   "source": [
    "# **Exploring Data ( Visualization )**"
   ]
  },
  {
   "cell_type": "code",
   "execution_count": null,
   "metadata": {
    "colab": {
     "base_uri": "https://localhost:8080/",
     "height": 501
    },
    "id": "-qnI_1oOUDrN",
    "outputId": "5fc49aec-323b-485e-d76a-ce0d85c9ab7e"
   },
   "outputs": [],
   "source": [
    "plt.figure(figsize =(12,5))\n",
    "plt.subplot(1,2,1)\n",
    "sns.histplot(x =data[\"Average\"] ,bins=30 ,kde=True ,color='g')\n",
    "\n",
    "plt.subplot(1,2,2)\n",
    "sns.histplot(x =data[\"Average\"] ,kde=True , hue=data['gender'])\n",
    "\n",
    "plt.tight_layout()\n",
    "plt.show()"
   ]
  },
  {
   "cell_type": "code",
   "execution_count": null,
   "metadata": {
    "colab": {
     "base_uri": "https://localhost:8080/",
     "height": 660
    },
    "id": "wNjtHIMXYcSb",
    "outputId": "db883b2f-802e-4074-ba92-d2fa6f24eb1c"
   },
   "outputs": [],
   "source": [
    "fig, axs = plt.subplots(1, 2, figsize=(15, 7))\n",
    "plt.subplot(121)\n",
    "sns.histplot(x =data[\"Total_Score\"],bins=30 ,kde=True ,color='g')\n",
    "\n",
    "plt.subplot(122)\n",
    "sns.histplot(x =data[\"Total_Score\"] ,kde=True , hue=data['gender'])\n",
    "\n",
    "plt.tight_layout()\n",
    "plt.show()"
   ]
  },
  {
   "cell_type": "code",
   "execution_count": null,
   "metadata": {
    "colab": {
     "base_uri": "https://localhost:8080/",
     "height": 457
    },
    "id": "tyxDdam4Vbv2",
    "outputId": "a83e250d-b258-4dca-b78c-701678a86d26"
   },
   "outputs": [],
   "source": [
    "plt.subplots(1,3,figsize=(25,8))\n",
    "plt.subplot(131)\n",
    "sns.histplot(x=data['Average'] , kde=True , hue =data[\"lunch\"])\n",
    "plt.title(\"Avr Score hue by lunch\",fontweight=\"bold\")\n",
    "\n",
    "plt.subplot(132)\n",
    "sns.histplot(data=data[data['gender']=='female'] , x='Average',kde=True ,hue='lunch')\n",
    "plt.title(\"Avr Score hue by lunch for female\",fontweight=\"bold\")\n",
    "\n",
    "plt.subplot(133)\n",
    "sns.histplot(data=data[data['gender']=='male'] , x='Average',kde=True ,hue='lunch')\n",
    "plt.title(\"Avr Score hue by lunch for male\",fontweight=\"bold\")\n",
    "\n",
    "plt.tight_layout()\n",
    "plt.show()"
   ]
  },
  {
   "cell_type": "code",
   "execution_count": null,
   "metadata": {
    "colab": {
     "base_uri": "https://localhost:8080/",
     "height": 457
    },
    "id": "Iw59yN1WbC6H",
    "outputId": "ccd18656-9ee3-4d08-e60b-be429c95efc4"
   },
   "outputs": [],
   "source": [
    "plt.subplots(1,3,figsize=(25,8))\n",
    "plt.subplot(131)\n",
    "sns.histplot(x=data['Total_Score'] , kde=True , hue =data[\"lunch\"])\n",
    "plt.title(\"Total_Score hue by lunch\",fontweight=\"bold\")\n",
    "\n",
    "plt.subplot(132)\n",
    "sns.histplot(data=data[data['gender']=='female'] , x='Total_Score',kde=True ,hue='lunch')\n",
    "plt.title(\"Total_Score hue by lunch for female\",fontweight=\"bold\")\n",
    "\n",
    "plt.subplot(133)\n",
    "sns.histplot(data=data[data['gender']=='male'] , x='Total_Score',kde=True ,hue='lunch')\n",
    "plt.title(\"Total_Score hue by lunch for male\",fontweight=\"bold\")\n",
    "\n",
    "plt.tight_layout()\n",
    "plt.show()"
   ]
  },
  {
   "cell_type": "markdown",
   "metadata": {
    "id": "bKeKnkVzbSJN"
   },
   "source": [
    "**Insights**\n",
    "\n",
    "*   Standard lunch helps perform well in exams.\n",
    "*   Standard lunch helps perform well in exams be it a male or a female.\n"
   ]
  },
  {
   "cell_type": "code",
   "execution_count": null,
   "metadata": {
    "colab": {
     "base_uri": "https://localhost:8080/",
     "height": 457
    },
    "id": "eqCrGS_wbqUQ",
    "outputId": "bdbbaff1-4d20-4032-bf37-860c4a3b7057"
   },
   "outputs": [],
   "source": [
    "plt.subplots(1,3,figsize=(25,8))\n",
    "plt.subplot(131)\n",
    "sns.histplot(x=data['Total_Score'] , kde=True , hue =data[\"parental level of education\"])\n",
    "plt.title(\"Total_Score hue by lunch\",fontweight=\"bold\")\n",
    "\n",
    "plt.subplot(132)\n",
    "sns.histplot(data=data[data['gender']=='female'] , x='Total_Score',kde=True ,hue='parental level of education')\n",
    "plt.title(\"Total_Score hue by lunch for female\",fontweight=\"bold\")\n",
    "\n",
    "plt.subplot(133)\n",
    "sns.histplot(data=data[data['gender']=='male'] , x='Total_Score',kde=True ,hue='parental level of education')\n",
    "plt.title(\"Total_Score hue by lunch for male\",fontweight=\"bold\")\n",
    "\n",
    "plt.tight_layout()\n",
    "plt.show()"
   ]
  },
  {
   "cell_type": "code",
   "execution_count": null,
   "metadata": {
    "colab": {
     "base_uri": "https://localhost:8080/",
     "height": 512
    },
    "id": "YhPSR-ykcjm6",
    "outputId": "f28c8649-d509-4bd5-9120-f70457c229a5"
   },
   "outputs": [],
   "source": [
    "plt.subplots(1,3,figsize=(25,8))\n",
    "plt.subplot(131)\n",
    "ax =sns.histplot(data=data,x='Average',kde=True,hue='parental level of education')\n",
    "plt.title(\"Total_Score hue by parental level of education\",fontweight=\"bold\")\n",
    "\n",
    "plt.subplot(132)\n",
    "ax =sns.histplot(data=data[data.gender=='female'],x='Average',kde=True,hue='parental level of education')\n",
    "plt.title(\"Total_Score hue by parental level of education for female\",fontweight=\"bold\")\n",
    "\n",
    "plt.subplot(133)\n",
    "ax =sns.histplot(data=data[data.gender=='male'],x='Average',kde=True,hue='parental level of education')\n",
    "plt.title(\"Total_Score hue by parental level of education for male\",fontweight=\"bold\")\n",
    "\n",
    "plt.show()"
   ]
  },
  {
   "cell_type": "markdown",
   "metadata": {
    "id": "Mshqw-m6dVnp"
   },
   "source": [
    "**Insights**\n",
    "\n",
    "*   In general parent's education don't help student perform well in exam.\n",
    "*   2nd plot shows that parent's whose education is of associate's degree or master's degree their female child tend to perform well in exam\n",
    "*   3rd plot we can see there is no effect of parent's education on male students."
   ]
  },
  {
   "cell_type": "code",
   "execution_count": null,
   "metadata": {
    "colab": {
     "base_uri": "https://localhost:8080/",
     "height": 512
    },
    "id": "E4WGzgXmfDF2",
    "outputId": "d0560d6d-0816-402f-ddcf-31c8d0cb5691"
   },
   "outputs": [],
   "source": [
    "plt.subplots(1,3,figsize=(25,8))\n",
    "plt.subplot(131)\n",
    "ax =sns.histplot(data=data,x='Average',kde=True,hue='test preparation course')\n",
    "plt.title(\"Total_Score hue by test preparation course\",fontweight=\"bold\")\n",
    "\n",
    "plt.subplot(132)\n",
    "ax =sns.histplot(data=data[data.gender=='female'],x='Average',kde=True,hue='test preparation course')\n",
    "plt.title(\"Total_Score hue by test preparation course for female\",fontweight=\"bold\")\n",
    "\n",
    "plt.subplot(133)\n",
    "ax =sns.histplot(data=data[data.gender=='male'],x='Average',kde=True,hue='test preparation course')\n",
    "plt.title(\"Total_Score hue bytest preparation course for male\",fontweight=\"bold\")\n",
    "\n",
    "plt.show()"
   ]
  },
  {
   "cell_type": "markdown",
   "metadata": {
    "id": "_x8hreOiheWY"
   },
   "source": [
    "**Insight**\n",
    "\n",
    "\n",
    "*   Completed Test prepration Course student have good peformance\n",
    "\n"
   ]
  },
  {
   "cell_type": "code",
   "execution_count": null,
   "metadata": {
    "colab": {
     "base_uri": "https://localhost:8080/",
     "height": 512
    },
    "id": "nh5XU_aRfDRE",
    "outputId": "98978915-9dd9-4d27-83fe-f1ba1de18a7d"
   },
   "outputs": [],
   "source": [
    "plt.subplots(1,3,figsize=(25,8))\n",
    "plt.subplot(131)\n",
    "ax =sns.histplot(data=data,x='Average',kde=True,hue='race/ethnicity')\n",
    "plt.title(\"Total_Score hue by race/ethnicity course\",fontweight=\"bold\")\n",
    "\n",
    "plt.subplot(132)\n",
    "ax =sns.histplot(data=data[data.gender=='female'],x='Average',kde=True,hue='race/ethnicity')\n",
    "plt.title(\"Total_Score hue by race/ethnicity for female\",fontweight=\"bold\")\n",
    "\n",
    "plt.subplot(133)\n",
    "ax =sns.histplot(data=data[data.gender=='male'],x='Average',kde=True,hue='race/ethnicity')\n",
    "plt.title(\"Total_Score hue by race/ethnicity for male\",fontweight=\"bold\")\n",
    "\n",
    "plt.show()"
   ]
  },
  {
   "cell_type": "markdown",
   "metadata": {
    "id": "mYvtuqfKgiO3"
   },
   "source": [
    "**Insight**\n",
    "*   Students of group A and group B tends to perform poorly in exam.\n",
    "*   Students of group A and group B tends to perform poorly in exam irrespective of whether they are male or female\n",
    "\n"
   ]
  },
  {
   "cell_type": "markdown",
   "metadata": {
    "id": "jYnAcB7ckAfz"
   },
   "source": [
    "**Maximumum score of students in all three subjects**"
   ]
  },
  {
   "cell_type": "code",
   "execution_count": null,
   "metadata": {
    "colab": {
     "base_uri": "https://localhost:8080/",
     "height": 675
    },
    "id": "4m-qa9Z5jUYX",
    "outputId": "291852bb-6573-42d6-e2c3-af0e29038073"
   },
   "outputs": [],
   "source": [
    "plt.figure(figsize=(18,8))\n",
    "\n",
    "plt.subplot(1, 4, 1)\n",
    "plt.title('MATH SCORES')\n",
    "sns.violinplot(y='math score',data=data,color='red',linewidth=3)\n",
    "\n",
    "plt.subplot(1, 4, 2)\n",
    "plt.title('READING SCORES')\n",
    "sns.violinplot(y='reading score',data=data,color='green',linewidth=3)\n",
    "\n",
    "plt.subplot(1, 4, 3)\n",
    "plt.title('WRITING SCORES')\n",
    "sns.violinplot(y='writing score',data=data,color='blue',linewidth=3)\n",
    "\n",
    "plt.show()"
   ]
  },
  {
   "cell_type": "markdown",
   "metadata": {
    "id": "z_NENZBdjqNR"
   },
   "source": [
    "**Insights**\n",
    "\n",
    "*  From the above three plots its clearly visible that most of the students score in between 60-80 in Maths whereas in reading and writing most of them score from 50-80\n",
    "\n",
    "\n",
    "\n"
   ]
  },
  {
   "cell_type": "code",
   "execution_count": null,
   "metadata": {
    "colab": {
     "base_uri": "https://localhost:8080/",
     "height": 280
    },
    "id": "twa4sp3Hqm1u",
    "outputId": "97b815f1-6ae7-4893-cff6-d7ff1516aed1"
   },
   "outputs": [],
   "source": [
    "plt.rcParams['figure.figsize'] = (30, 12)\n",
    "\n",
    "plt.subplot(1, 5, 1)\n",
    "size = data['gender'].value_counts()\n",
    "labels = 'Female', 'Male'\n",
    "colors = ['red','green']\n",
    "\n",
    "\n",
    "plt.pie(size, colors = colors, labels = labels,autopct = '.%2f%%')\n",
    "plt.title('Gender', fontsize = 20)\n",
    "plt.axis('off')\n",
    "\n",
    "\n",
    "\n",
    "plt.subplot(1, 5, 2)\n",
    "size = data['race/ethnicity'].value_counts()\n",
    "labels = 'Group C', 'Group D','Group B','Group E','Group A'\n",
    "colors = ['red', 'green', 'blue', 'cyan','orange']\n",
    "\n",
    "plt.pie(size, colors = colors,labels = labels,autopct = '.%2f%%')\n",
    "plt.title('Race/Ethnicity', fontsize = 20)\n",
    "plt.axis('off')\n",
    "\n",
    "\n",
    "\n",
    "plt.subplot(1, 5, 3)\n",
    "size = data['lunch'].value_counts()\n",
    "labels = 'Standard', 'Free'\n",
    "\n",
    "plt.pie(size ,labels = labels,autopct = '.%2f%%')\n",
    "plt.title('Lunch', fontsize = 20)\n",
    "plt.axis('off')\n",
    "\n",
    "\n",
    "plt.subplot(1, 5, 4)\n",
    "size = data['test preparation course'].value_counts()\n",
    "labels = 'None', 'Completed'\n",
    "colors=['cyan',\"y\"]\n",
    "\n",
    "plt.pie(size, colors = colors,labels = labels,autopct = '.%2f%%')\n",
    "plt.title('Test Course', fontsize = 20)\n",
    "plt.axis('off')\n",
    "\n",
    "\n",
    "plt.subplot(1, 5, 5)\n",
    "size = data['parental level of education'].value_counts()\n",
    "labels = 'Some College', \"Associate's Degree\",'High School','Some High School',\"Bachelor's Degree\",\"Master's Degree\"\n",
    "colors=['cyan',\"y\" ,\"r\",\"orange\",\"g\" ,\"brown\"]\n",
    "\n",
    "plt.pie(size, colors = colors,labels = labels,autopct = '.%2f%%')\n",
    "plt.title('Parental Education', fontsize = 20)\n",
    "plt.axis('off')\n",
    "\n",
    "\n",
    "plt.tight_layout()\n",
    "plt.grid()\n",
    "\n",
    "plt.show()"
   ]
  },
  {
   "cell_type": "markdown",
   "metadata": {
    "id": "UmtIQGedrtGu"
   },
   "source": [
    "**Insights**\n",
    "\n",
    "*   Number of Male and Female students is almost equal\n",
    "*   Number students are greatest in Group C\n",
    "*   Number of students who have standard lunch are greater\n",
    "*   Number of students who have not enrolled in any test preparation course is greater\n",
    "*   Number of students whose parental education is \"Some College\" is greater followed closely by \"Associate's Degree\"\n"
   ]
  },
  {
   "cell_type": "markdown",
   "metadata": {
    "id": "WWqliMmumlhG"
   },
   "source": [
    "**Feature Wise Visualization**\n",
    "\n",
    "**GENDER COLUM**\n",
    "\n",
    "*   How is distribution of Gender ?\n",
    "*   Is gender has any impact on student's performance ?\n",
    "\n",
    "\n",
    "**UNIVARIATE ANALYSIS ( How is distribution of Gender ? )**"
   ]
  },
  {
   "cell_type": "code",
   "execution_count": null,
   "metadata": {
    "colab": {
     "base_uri": "https://localhost:8080/",
     "height": 561
    },
    "id": "7_us8lEdl0_A",
    "outputId": "4b6031ae-71a2-465e-ae5f-d15acd51138f"
   },
   "outputs": [],
   "source": [
    "# Creating a figure with two subplots side by side\n",
    "fig, ax = plt.subplots(1, 2, figsize=(18, 6))\n",
    "\n",
    "# Count plot for gender\n",
    "sns.countplot(x='gender', data=data, color='brown', ax=ax[0], saturation=0.95)\n",
    "for container in ax[0].containers:\n",
    "    ax[0].bar_label(container, color='black', size=20)\n",
    "\n",
    "# Pie chart for gender distribution\n",
    "ax[1].pie(data['gender'].value_counts(), labels=['Male', 'Female'], explode=[0, 0.1], autopct='%1.1f%%', shadow=True, colors=['#ff4d4d', '#ff8000'])\n",
    "\n",
    "# Displaying the plots\n",
    "plt.show()\n"
   ]
  },
  {
   "cell_type": "markdown",
   "metadata": {
    "id": "OcEi0WkzmcHu"
   },
   "source": [
    "**Insights**\n",
    "*    Gender has balanced data with female students are 518 (48%) and male students are 482 (52%)"
   ]
  },
  {
   "cell_type": "markdown",
   "metadata": {
    "id": "yNJ21p1huqdb"
   },
   "source": [
    "**BIVARIATE ANALYSIS ( Is gender has any impact on student's performance ? )**"
   ]
  },
  {
   "cell_type": "code",
   "execution_count": null,
   "metadata": {
    "colab": {
     "base_uri": "https://localhost:8080/",
     "height": 178
    },
    "id": "F9--h_8dnWNd",
    "outputId": "fd425037-3024-49c3-a2cd-70a07e8bc814"
   },
   "outputs": [],
   "source": [
    "gender_group = data.groupby('gender')['Average'].mean()\n",
    "gender_group"
   ]
  },
  {
   "cell_type": "code",
   "execution_count": null,
   "metadata": {
    "colab": {
     "base_uri": "https://localhost:8080/",
     "height": 503
    },
    "id": "otvMV0I6roOr",
    "outputId": "cf29acae-d65b-408a-dfbf-2a451fb1300f"
   },
   "outputs": [],
   "source": [
    "# Create a bar plot\n",
    "plt.figure(figsize=(8, 5))  # Optional: Set figure size\n",
    "gender_group.plot(kind=\"bar\", color='lightblue')  # You can customize the color here\n",
    "plt.title(\"Average Score by Gender\", fontweight='bold')\n",
    "plt.xlabel(\"Gender\")\n",
    "plt.ylabel(\"Average Score\")\n",
    "plt.xticks(rotation=0)  # Optional: Rotate x-axis labels for better readability\n",
    "plt.grid(axis='y', linestyle='--', alpha=0.7)  # Optional: Add grid lines for clarity\n",
    "plt.show()"
   ]
  },
  {
   "cell_type": "code",
   "execution_count": null,
   "metadata": {
    "colab": {
     "base_uri": "https://localhost:8080/"
    },
    "id": "eK2rWZc-s6t0",
    "outputId": "fca18c37-1059-48c8-f08d-75fdf94dd018"
   },
   "outputs": [],
   "source": [
    "# Group by gender and calculate mean, median, and standard deviation\n",
    "gender_stats = data.groupby('gender').agg({\n",
    "    'math score': ['mean', 'median', 'std'],\n",
    "    'reading score': ['mean', 'median', 'std'],\n",
    "    'writing score': ['mean', 'median', 'std'],\n",
    "    'Average': ['mean', 'median', 'std']\n",
    "})\n",
    "\n",
    "print(gender_stats)\n"
   ]
  },
  {
   "cell_type": "code",
   "execution_count": null,
   "metadata": {
    "colab": {
     "base_uri": "https://localhost:8080/",
     "height": 472
    },
    "id": "_OBjetLbtmnV",
    "outputId": "a7c64fee-257b-4186-c378-8e58da433682"
   },
   "outputs": [],
   "source": [
    "# Set the aesthetic style of the plots\n",
    "sns.set(style=\"whitegrid\")\n",
    "\n",
    "plt.figure(figsize=(15, 5))\n",
    "\n",
    "# Math Scores Box Plot\n",
    "plt.subplot(1, 3, 1)\n",
    "sns.boxplot(x='gender', y='math score', data=data, palette='Set2', width=0.5)\n",
    "plt.title('Math Scores by Gender', fontweight='bold', fontsize=16)\n",
    "plt.ylabel('Math Score', fontsize=14)\n",
    "plt.xlabel('Gender', fontsize=14)\n",
    "plt.grid(axis='y', linestyle='--', alpha=0.7)\n",
    "\n",
    "# Reading Scores Box Plot\n",
    "plt.subplot(1, 3, 2)\n",
    "sns.boxplot(x='gender', y='reading score', data=data, palette='Set1', width=0.5)\n",
    "plt.title('Reading Scores by Gender', fontweight='bold', fontsize=16)\n",
    "plt.ylabel('Reading Score', fontsize=14)\n",
    "plt.xlabel('Gender', fontsize=14)\n",
    "plt.grid(axis='y', linestyle='--', alpha=0.7)\n",
    "\n",
    "# Writing Scores Box Plot\n",
    "plt.subplot(1, 3, 3)\n",
    "sns.boxplot(x='gender', y='writing score', data=data, palette='Set3', width=0.5)\n",
    "plt.title('Writing Scores by Gender', fontweight='bold', fontsize=16)\n",
    "plt.ylabel('Writing Score', fontsize=14)\n",
    "plt.xlabel('Gender', fontsize=14)\n",
    "plt.grid(axis='y', linestyle='--', alpha=0.7)\n",
    "\n",
    "\n",
    "plt.tight_layout()\n",
    "plt.show()\n"
   ]
  },
  {
   "cell_type": "markdown",
   "metadata": {
    "id": "7FQqk-Wsuyiq"
   },
   "source": [
    "**Insight**\n",
    "\n",
    "\n",
    "*   Female performance is good from male but also some number of females hava bad perfomance then male\n",
    "\n"
   ]
  },
  {
   "cell_type": "markdown",
   "metadata": {
    "id": "QglfSDQOvkzk"
   },
   "source": [
    "**RACE/EHNICITY COLUMN**\n",
    "\n",
    "*   How is Group wise distribution ?\n",
    "*   Is Race/Ehnicity has any impact on student's performance ?\n",
    "\n",
    "**UNIVARIATE ANALYSIS ( How is Group wise distribution ?)**"
   ]
  },
  {
   "cell_type": "code",
   "execution_count": null,
   "metadata": {
    "colab": {
     "base_uri": "https://localhost:8080/",
     "height": 527
    },
    "id": "QXDuNtxJ0KAa",
    "outputId": "511d33ce-8864-42ad-b974-868bb8206637"
   },
   "outputs": [],
   "source": [
    "# Set aesthetic style\n",
    "sns.set(style=\"whitegrid\")\n",
    "\n",
    "# Creating a figure with two subplots side by side\n",
    "fig, ax = plt.subplots(1, 2, figsize=(18, 6))\n",
    "\n",
    "# Count plot for race/ethnicity with a customized color palette\n",
    "sns.countplot(x='race/ethnicity',  data=data, ax=ax[0] , palette='bright',saturation=0.9\n",
    ")\n",
    "\n",
    "# Customize plot appearance\n",
    "ax[0].set_title(\"Distribution of Students by Race/Ethnicity\", fontweight='bold', fontsize=16)\n",
    "ax[0].set_xlabel(\"Race/Ethnicity\", fontsize=14)\n",
    "ax[0].set_ylabel(\"Count\", fontsize=14)\n",
    "ax[0].tick_params(axis='x', rotation=45)\n",
    "ax[0].grid(axis='y', linestyle='--', alpha=0.7)\n",
    "\n",
    "for container in ax[0].containers:\n",
    "    ax[0].bar_label(container, color='black', size=18)\n",
    "\n",
    "\n",
    "\n",
    "# Pie chart for gender distribution\n",
    "\n",
    "labels = 'group C', 'group D' , 'group B','group E','group A'\n",
    "ax[1].pie(data['race/ethnicity'].value_counts(), labels=labels, autopct='%1.1f%%', shadow=True)\n",
    "\n",
    "# Adjust layout to prevent overlap\n",
    "plt.tight_layout()\n",
    "plt.show()\n"
   ]
  },
  {
   "cell_type": "markdown",
   "metadata": {
    "id": "YoCclqmu3qQ8"
   },
   "source": [
    "**Insights**\n",
    "\n",
    "*   Most of the student belonging from group C /group D.\n",
    "*   Lowest number of students belong to groupA."
   ]
  },
  {
   "cell_type": "code",
   "execution_count": null,
   "metadata": {
    "colab": {
     "base_uri": "https://localhost:8080/",
     "height": 272
    },
    "id": "JIyIKln-uhMB",
    "outputId": "10831abf-ab30-47b3-a777-aeff182c1f82"
   },
   "outputs": [],
   "source": [
    "race_group = data.groupby(\"race/ethnicity\")[\"Average\"].mean()\n",
    "race_group"
   ]
  },
  {
   "cell_type": "markdown",
   "metadata": {
    "id": "BKrVjptHwTlx"
   },
   "source": [
    "**mean of group E student have more**"
   ]
  },
  {
   "cell_type": "code",
   "execution_count": null,
   "metadata": {
    "colab": {
     "base_uri": "https://localhost:8080/",
     "height": 503
    },
    "id": "-qzvqAgYwdr8",
    "outputId": "7fb5d6fe-b338-424b-97f5-3e1dce3a3dca"
   },
   "outputs": [],
   "source": [
    "# Create a bar plot\n",
    "plt.figure(figsize=(8, 5))  # Optional: Set figure size\n",
    "race_group.plot(kind=\"bar\", color='lightblue')  # You can customize the color here\n",
    "plt.title(\"Average Score by race_group\", fontweight='bold')\n",
    "plt.xlabel(\"race_group\")\n",
    "plt.ylabel(\"Average Score\")\n",
    "plt.xticks(rotation=0)  # Optional: Rotate x-axis labels for better readability\n",
    "plt.grid(axis='y', linestyle='--', alpha=0.7)  # Optional: Add grid lines for clarity\n",
    "plt.show()"
   ]
  },
  {
   "cell_type": "markdown",
   "metadata": {
    "id": "W4O7dSDi34ct"
   },
   "source": [
    "**Insight**\n",
    "\n",
    "*   Group E students have good performance\n",
    "\n",
    "\n"
   ]
  },
  {
   "cell_type": "markdown",
   "metadata": {
    "id": "MlJ0rsZ958Do"
   },
   "source": [
    "**BIVARIATE ANALYSIS ( Is Race/Ehnicity has any impact on student's performance ? )**"
   ]
  },
  {
   "cell_type": "code",
   "execution_count": null,
   "metadata": {
    "colab": {
     "base_uri": "https://localhost:8080/"
    },
    "id": "uf5SP-VK4JzM",
    "outputId": "7ccb301f-7c50-449e-a23d-9173496d8c85"
   },
   "outputs": [],
   "source": [
    "# Group by race/ethnicity and calculate mean, median, and standard deviation\n",
    "race_state = data.groupby('race/ethnicity').agg({\n",
    "    'math score': ['mean', 'median', 'std'],\n",
    "    'reading score': ['mean', 'median', 'std'],\n",
    "    'writing score': ['mean', 'median', 'std'],\n",
    "    'Average': ['mean', 'median', 'std']\n",
    "})\n",
    "\n",
    "print(race_state)\n"
   ]
  },
  {
   "cell_type": "code",
   "execution_count": null,
   "metadata": {
    "colab": {
     "base_uri": "https://localhost:8080/",
     "height": 472
    },
    "id": "BxKH3Glw2_ff",
    "outputId": "35cdb123-78c5-4ff2-c277-15209f43228e"
   },
   "outputs": [],
   "source": [
    "# Set the aesthetic style of the plots\n",
    "sns.set(style=\"whitegrid\")\n",
    "\n",
    "plt.figure(figsize=(15, 5))\n",
    "\n",
    "# Math Scores Box Plot\n",
    "plt.subplot(1, 3, 1)\n",
    "sns.boxplot(x='race/ethnicity', y='math score', data=data, palette='Set2', width=0.5)\n",
    "plt.title('Math Scores by race/ethnicity', fontweight='bold', fontsize=16)\n",
    "plt.ylabel('Math Score', fontsize=14)\n",
    "plt.xlabel('race/ethnicity', fontsize=14)\n",
    "plt.grid(axis='y', linestyle='--', alpha=0.7)\n",
    "\n",
    "# Reading Scores Box Plot\n",
    "plt.subplot(1, 3, 2)\n",
    "sns.boxplot(x='race/ethnicity', y='reading score', data=data, palette='Set1', width=0.5)\n",
    "plt.title('Reading Scores by race/ethnicity', fontweight='bold', fontsize=16)\n",
    "plt.ylabel('Reading Score', fontsize=14)\n",
    "plt.xlabel('race/ethnicity', fontsize=14)\n",
    "plt.grid(axis='y', linestyle='--', alpha=0.7)\n",
    "\n",
    "# Writing Scores Box Plot\n",
    "plt.subplot(1, 3, 3)\n",
    "sns.boxplot(x='race/ethnicity', y='writing score', data=data, palette='Set3', width=0.5)\n",
    "plt.title('Writing Scores by race/ethnicity', fontweight='bold', fontsize=16)\n",
    "plt.ylabel('Writing Score', fontsize=14)\n",
    "plt.xlabel('race/ethnicity', fontsize=14)\n",
    "plt.grid(axis='y', linestyle='--', alpha=0.7)\n",
    "\n",
    "\n",
    "plt.tight_layout()\n",
    "plt.show()\n"
   ]
  },
  {
   "cell_type": "markdown",
   "metadata": {
    "id": "IAkFMPzyDAKZ"
   },
   "source": [
    " **parental level of education**\n",
    "\n",
    "*   What is educational background of student's parent ?\n",
    "*   Is parental level of education\t has any impact on student's performance ?\n",
    "\n",
    "**UNIVARIATE ANALYSIS ( What is educational background of student's parent ?)**"
   ]
  },
  {
   "cell_type": "code",
   "execution_count": null,
   "metadata": {
    "colab": {
     "base_uri": "https://localhost:8080/",
     "height": 513
    },
    "id": "3KAv9WMV3hp1",
    "outputId": "cefae1a4-681d-4e17-e3f4-a9b8fea3521b"
   },
   "outputs": [],
   "source": [
    "# Set aesthetic style\n",
    "sns.set(style=\"whitegrid\")\n",
    "\n",
    "# Creating a figure with two subplots side by side\n",
    "fig, ax = plt.subplots(1, 2, figsize=(18, 6))\n",
    "\n",
    "# Count plot for race/ethnicity with a customized color palette\n",
    "sns.countplot(x='parental level of education',  data=data, ax=ax[0] , palette='viridis',saturation=0.9\n",
    ")\n",
    "\n",
    "# Customize plot appearance\n",
    "ax[0].set_title(\"Distribution of Students by parental level of education\", fontweight='bold', fontsize=16)\n",
    "ax[0].set_xlabel(\"parental level of education\", fontsize=14)\n",
    "ax[0].set_ylabel(\"Count\", fontsize=14)\n",
    "ax[0].tick_params(axis='x', rotation=45)\n",
    "ax[0].grid(axis='y', linestyle='--', alpha=0.7)\n",
    "\n",
    "for container in ax[0].containers:\n",
    "    ax[0].bar_label(container, color='black', size=18)\n",
    "\n",
    "\n",
    "\n",
    "# Pie chart for gender distribution\n",
    "\n",
    "labels = 'some college', \"associate's degree\",'high school','some high school',\"bachelor's degree\",\"master's degree\"\n",
    "ax[1].pie(data['parental level of education'].value_counts(), labels=labels, autopct='%1.1f%%', shadow=True)\n",
    "\n",
    "# Adjust layout to prevent overlap\n",
    "plt.tight_layout()\n",
    "plt.show()\n"
   ]
  },
  {
   "cell_type": "markdown",
   "metadata": {
    "id": "DXCZ6YGIHs5p"
   },
   "source": [
    "**Insights**\n",
    "\n",
    "*   Largest number of parents are from some college."
   ]
  },
  {
   "cell_type": "code",
   "execution_count": null,
   "metadata": {
    "colab": {
     "base_uri": "https://localhost:8080/",
     "height": 303
    },
    "id": "kLT-goqhHH3M",
    "outputId": "e9e269f4-9327-4b46-af26-725e560dbf22"
   },
   "outputs": [],
   "source": [
    "data.groupby('parental level of education')['Average'].mean()"
   ]
  },
  {
   "cell_type": "markdown",
   "metadata": {
    "id": "Z2MoRLTwH2Id"
   },
   "source": [
    "**BIVARIATE ANALYSIS ( Is parental education has any impact on student's performance ? )**"
   ]
  },
  {
   "cell_type": "code",
   "execution_count": null,
   "metadata": {
    "colab": {
     "base_uri": "https://localhost:8080/",
     "height": 534
    },
    "id": "3_2LQzI-IAhF",
    "outputId": "b319902b-e474-4860-b90d-caab344a129b"
   },
   "outputs": [],
   "source": [
    "parental_group = data.groupby('parental level of education')['Average'].agg('mean')\n",
    "parental_group.plot(kind='barh',figsize=(6,6))\n",
    "plt.legend(bbox_to_anchor=(1.05, 1), loc=2, borderaxespad=0.)\n",
    "plt.show()"
   ]
  },
  {
   "cell_type": "markdown",
   "metadata": {
    "id": "lCOAv9qDJAJf"
   },
   "source": [
    "**Insights**\n",
    "\n",
    "*   The score of student whose parents possess master and bachelor level education are higher than others."
   ]
  },
  {
   "cell_type": "markdown",
   "metadata": {
    "id": "SPXXF5R5JRKd"
   },
   "source": [
    "**LUNCH COLUMN**\n",
    "\n",
    "*   Which type of lunch is most common amoung students ?\n",
    "*   What is the effect of lunch type on test results?"
   ]
  },
  {
   "cell_type": "markdown",
   "metadata": {
    "id": "GghAgOFIJadv"
   },
   "source": [
    "**UNIVARIATE ANALYSIS ( Which type of lunch is most common amoung students ? )**"
   ]
  },
  {
   "cell_type": "code",
   "execution_count": null,
   "metadata": {
    "colab": {
     "base_uri": "https://localhost:8080/",
     "height": 614
    },
    "id": "EGnenkvMJXpe",
    "outputId": "99c70102-03d3-41ac-d19f-ef688b3e32f8"
   },
   "outputs": [],
   "source": [
    "# Count plot for lunch types\n",
    "sns.countplot(x='lunch', data=data, palette='Paired')\n",
    "plt.title('Comparison of Different Types of Lunch', fontweight='bold', fontsize=20)\n",
    "plt.xlabel('Types of Lunch', fontsize=15)\n",
    "plt.ylabel('Count', fontsize=15)\n",
    "plt.show()\n"
   ]
  },
  {
   "cell_type": "markdown",
   "metadata": {
    "id": "-BsSAYGxLAs-"
   },
   "source": [
    "**Insights**\n",
    "\n",
    "*   Students being served Standard lunch was more than free lunch"
   ]
  },
  {
   "cell_type": "markdown",
   "metadata": {
    "id": "O0j18AmtLQxt"
   },
   "source": [
    "**BIVARIATE ANALYSIS ( Is lunch type intake has any impact on student's performance ? )**"
   ]
  },
  {
   "cell_type": "code",
   "execution_count": null,
   "metadata": {
    "colab": {
     "base_uri": "https://localhost:8080/",
     "height": 568
    },
    "id": "6pA3kaoWM7RF",
    "outputId": "f71263d0-2ecc-4813-ca92-9ecb32350cc6"
   },
   "outputs": [],
   "source": [
    "# Set up a figure with two subplots\n",
    "f, ax = plt.subplots(1, 2, figsize=(20, 8))\n",
    "\n",
    "# First count plot: Students vs Test Preparation Course\n",
    "sns.countplot(x='parental level of education', data=data, hue='test preparation course', palette='bright', saturation=0.95, ax=ax[0])\n",
    "ax[0].set_title('Students vs Test Preparation Course', color='black', size=25)\n",
    "ax[0].tick_params(axis='x', rotation=45)  # Rotate x-axis labels\n",
    "for container in ax[0].containers:\n",
    "    ax[0].bar_label(container, color='black', size=15)\n",
    "\n",
    "# Second count plot: Students vs Parental Level of Education (Lunch Comparison)\n",
    "sns.countplot(x='parental level of education', data=data, hue='lunch', palette='bright', saturation=0.95, ax=ax[1])\n",
    "ax[1].set_title('Students vs Parental Level of Education (Lunch)', color='black', size=25)\n",
    "ax[1].tick_params(axis='x', rotation=45)  # Rotate x-axis labels\n",
    "for container in ax[1].containers:\n",
    "    ax[1].bar_label(container, color='black', size=15)\n",
    "\n",
    "plt.tight_layout()\n",
    "plt.show()"
   ]
  },
  {
   "cell_type": "markdown",
   "metadata": {
    "id": "uxBJOoISNUJj"
   },
   "source": [
    "**Insights**\n",
    "\n",
    "*  Students who get Standard Lunch tend to perform better than students who got free/reduced lunch"
   ]
  },
  {
   "cell_type": "markdown",
   "metadata": {
    "id": "5Y1ngpCrNhor"
   },
   "source": [
    "**TEST PREPARATION COURSE COLUMN**\n",
    "\n",
    "*   Which type of lunch is most common amoung students ?\n",
    "*   Is Test prepration course has any impact on student's performance ?\n",
    "\n",
    "\n",
    "\n"
   ]
  },
  {
   "cell_type": "markdown",
   "metadata": {
    "id": "SgvAi8zeNtK6"
   },
   "source": [
    "**BIVARIATE ANALYSIS ( Is Test prepration course has any impact on student's performance ? )**"
   ]
  },
  {
   "cell_type": "code",
   "execution_count": null,
   "metadata": {
    "colab": {
     "base_uri": "https://localhost:8080/",
     "height": 600
    },
    "id": "TvLw0J3TNupG",
    "outputId": "7f8e51d9-f3d4-45a0-a83f-b7667ad72aec"
   },
   "outputs": [],
   "source": [
    "plt.figure(figsize=(12,6))\n",
    "plt.subplot(2,2,1)\n",
    "sns.barplot (x=data['lunch'], y=data['math score'], hue=data['test preparation course'])\n",
    "plt.subplot(2,2,2)\n",
    "sns.barplot (x=data['lunch'], y=data['reading score'], hue=data['test preparation course'])\n",
    "plt.subplot(2,2,3)\n",
    "sns.barplot (x=data['lunch'], y=data['writing score'], hue=data['test preparation course'])\n",
    "\n",
    "plt.tight_layout()\n",
    "plt.show()"
   ]
  },
  {
   "cell_type": "markdown",
   "metadata": {
    "id": "rrKDYTXkOPfq"
   },
   "source": [
    "**Insights**\n",
    "\n",
    "*   Students who have completed the Test Prepration Course have scores higher in all three categories than those who haven't taken the course"
   ]
  },
  {
   "cell_type": "markdown",
   "metadata": {
    "id": "ctHNc1xsOXIk"
   },
   "source": [
    "**CHECKING OUTLIERS**"
   ]
  },
  {
   "cell_type": "code",
   "execution_count": null,
   "metadata": {
    "colab": {
     "base_uri": "https://localhost:8080/",
     "height": 422
    },
    "id": "_wCQLZOuOcEq",
    "outputId": "925b2418-ccea-4fb1-a9e4-7e2973b4a1f0"
   },
   "outputs": [],
   "source": [
    "plt.subplots(1,4,figsize=(16,5))\n",
    "plt.subplot(141)\n",
    "sns.boxplot(data['math score'],color='skyblue')\n",
    "plt.subplot(142)\n",
    "sns.boxplot(data['reading score'],color='hotpink')\n",
    "plt.subplot(143)\n",
    "sns.boxplot(data['writing score'],color='yellow')\n",
    "plt.subplot(144)\n",
    "sns.boxplot(data['Average'],color='lightgreen')\n",
    "plt.show()"
   ]
  },
  {
   "cell_type": "markdown",
   "metadata": {
    "id": "SbyByrWdOnmC"
   },
   "source": [
    "**MUTIVARIATE ANALYSIS USING PAIRPLOT**"
   ]
  },
  {
   "cell_type": "code",
   "execution_count": null,
   "metadata": {
    "colab": {
     "base_uri": "https://localhost:8080/",
     "height": 1000
    },
    "id": "JSGVOoUhOnUS",
    "outputId": "42508627-3854-4b75-ecdc-6bb2f52d73b7"
   },
   "outputs": [],
   "source": [
    "sns.pairplot(data,hue = 'gender')\n",
    "plt.show()"
   ]
  },
  {
   "cell_type": "markdown",
   "metadata": {
    "id": "5OaCEClgOw99"
   },
   "source": [
    "**Insights**\n",
    "\n",
    "*   From the above plot it is clear that all the scores increase linearly with each other."
   ]
  },
  {
   "cell_type": "markdown",
   "metadata": {
    "id": "P46iU7EwO4TD"
   },
   "source": [
    "**Conclusions**\n",
    "\n",
    "*   Student's Performance is related with lunch, race, parental level education\n",
    "*   Females lead in pass percentage and also are top-scorers\n",
    "*   Student's Performance is not much related with test preparation course\n",
    "*   Finishing preparation course is benefitial."
   ]
  },
  {
   "cell_type": "markdown",
   "metadata": {
    "id": "K_En9NhdPfBS"
   },
   "source": [
    "# **MODEL TRAIING**"
   ]
  },
  {
   "cell_type": "code",
   "execution_count": null,
   "metadata": {
    "id": "kBIArSlJUkbw"
   },
   "outputs": [],
   "source": [
    "# Dropping specified columns from X\n",
    "X = data.drop(columns=[\"Average\", \"Total_Score\", \"math score\"])\n",
    "\n",
    "# Setting the target variable Y\n",
    "Y = data[\"math score\"]"
   ]
  },
  {
   "cell_type": "code",
   "execution_count": null,
   "metadata": {
    "colab": {
     "base_uri": "https://localhost:8080/"
    },
    "id": "YgkP9G-6VYdt",
    "outputId": "add10860-d215-4cd3-c496-c16b53ee18af"
   },
   "outputs": [],
   "source": [
    "X.shape\n",
    "Y.shape"
   ]
  },
  {
   "cell_type": "code",
   "execution_count": null,
   "metadata": {
    "colab": {
     "base_uri": "https://localhost:8080/",
     "height": 206
    },
    "id": "5vHx-AV3Vdnu",
    "outputId": "89c2772f-0a3a-446b-c4a9-a0bfd61f3daa"
   },
   "outputs": [],
   "source": [
    "X.head(5)"
   ]
  },
  {
   "cell_type": "code",
   "execution_count": null,
   "metadata": {
    "colab": {
     "base_uri": "https://localhost:8080/",
     "height": 241
    },
    "id": "FhpJemlGVhs2",
    "outputId": "06e499e0-3d32-4a6f-b880-7f4497f4de70"
   },
   "outputs": [],
   "source": [
    "Y.head(5)"
   ]
  },
  {
   "cell_type": "code",
   "execution_count": null,
   "metadata": {
    "id": "TquuFfnbVnbE"
   },
   "outputs": [],
   "source": [
    "num_columns = X.select_dtypes(exclude='object').columns\n",
    "cat_columns = X.select_dtypes(include='object').columns"
   ]
  },
  {
   "cell_type": "code",
   "execution_count": null,
   "metadata": {
    "id": "nHygg84dSBoX"
   },
   "outputs": [],
   "source": [
    "from sklearn.preprocessing import OneHotEncoder , StandardScaler\n",
    "from sklearn.compose import ColumnTransformer"
   ]
  },
  {
   "cell_type": "code",
   "execution_count": null,
   "metadata": {
    "id": "Unb1KBerUBKS"
   },
   "outputs": [],
   "source": [
    "OHEncoder = OneHotEncoder()\n",
    "scaler = StandardScaler()"
   ]
  },
  {
   "cell_type": "code",
   "execution_count": null,
   "metadata": {
    "colab": {
     "base_uri": "https://localhost:8080/",
     "height": 135
    },
    "id": "eGQIvG6hUaE0",
    "outputId": "ea7fd8d2-6718-4f43-c481-1127913118e0"
   },
   "outputs": [],
   "source": [
    "preprocessor = ColumnTransformer(\n",
    "    [\n",
    "        ('OneHotEncoder' , OHEncoder , cat_columns),\n",
    "        ('StandardScaler',scaler ,num_columns)\n",
    "    ]\n",
    ")\n",
    "preprocessor"
   ]
  },
  {
   "cell_type": "code",
   "execution_count": null,
   "metadata": {
    "id": "nnJYQ5-GXGal"
   },
   "outputs": [],
   "source": [
    "X=preprocessor.fit_transform(X)"
   ]
  },
  {
   "cell_type": "code",
   "execution_count": null,
   "metadata": {
    "colab": {
     "base_uri": "https://localhost:8080/"
    },
    "id": "x5L2ClSzW2WH",
    "outputId": "3675e4da-7365-41e5-e466-d4fe3ef4994b"
   },
   "outputs": [],
   "source": [
    "X.shape"
   ]
  },
  {
   "cell_type": "code",
   "execution_count": null,
   "metadata": {
    "id": "JW8XbsjgaFip"
   },
   "outputs": [],
   "source": [
    "x_train,x_test,y_train,y_test =train_test_split(X,Y , test_size = 0.2 ,random_state =42)"
   ]
  },
  {
   "cell_type": "code",
   "execution_count": null,
   "metadata": {
    "id": "-LT54v9XaFam"
   },
   "outputs": [],
   "source": []
  },
  {
   "cell_type": "code",
   "execution_count": null,
   "metadata": {
    "id": "ZoCyCRvwZ6Ht"
   },
   "outputs": [],
   "source": [
    "def evaluation_model(true , pred):\n",
    "  mae = mean_absolute_error(true , pred)\n",
    "  mse = mean_squared_error(true , pred)\n",
    "  rmse = np.sqrt(mse)\n",
    "  R2_score =r2_score(true , pred)\n",
    "\n",
    "  return mae ,mse ,rmse ,R2_score"
   ]
  },
  {
   "cell_type": "code",
   "execution_count": null,
   "metadata": {
    "id": "wqvK7FcBbdBY"
   },
   "outputs": [],
   "source": [
    "models = {\n",
    "    'LinearRegression' : LinearRegression(),\n",
    "    'Lasso' : Lasso(),\n",
    "    'Ridge' : Ridge(),\n",
    "    'DecisionTree' : DecisionTreeRegressor(),\n",
    "    'RandomForest' : RandomForestRegressor(),\n",
    "    'SVR' : SVR(),\n",
    "    'XGBoost' : XGBRegressor(),\n",
    "    'KNN' : KNeighborsRegressor(),\n",
    "    'Adaboost' : AdaBoostRegressor(),\n",
    "    'Catboost' : CatBoostRegressor(verbose=False)\n",
    "    }"
   ]
  },
  {
   "cell_type": "code",
   "execution_count": null,
   "metadata": {
    "colab": {
     "base_uri": "https://localhost:8080/"
    },
    "id": "sxE1juiZdEi9",
    "outputId": "fe416c9e-a5af-4fd0-8b58-3cbe0c50856e"
   },
   "outputs": [],
   "source": [
    "model_list =[]\n",
    "R2_Score = []\n",
    "\n",
    "for i in range(len(list(models))):\n",
    "  model = list((models.values()))[i]\n",
    "  model.fit(x_train ,y_train) #Train model\n",
    "\n",
    "  #predict model\n",
    "  y_train_pred = model.predict(x_train)\n",
    "  y_test_pred = model.predict(x_test)\n",
    "\n",
    "  # Evaluate Train and Test dataset\n",
    "  model_train_mae , model_train_mse , model_train_rmse ,model_train_R2_score = evaluation_model(y_train , y_train_pred)\n",
    "  model_test_mae , model_test_mse ,model_test_rmse ,model_test_R2_score = evaluation_model(y_test , y_test_pred)\n",
    "\n",
    "\n",
    "  print(list((models.keys()))[i])\n",
    "  model_list.append(list(models.keys())[i])\n",
    "  print(\"Model performance for Training Set\")\n",
    "  print(\"-Mean Absolute Error {:.4f}\".format(model_train_mae))\n",
    "  print(\"-Mean Squared Error {:.4f}\".format(model_train_mse))\n",
    "  print(\"-Root Mean Squared Error {:.4f}\".format(model_train_rmse))\n",
    "  print(\"-R2 Score {:.4f}\".format(model_train_R2_score))\n",
    "\n",
    "  print(\"-------------------------------------------------------\")\n",
    "\n",
    "  print(\"Model performance for Test Set\")\n",
    "  print(\"-Mean Absolute Error {:.4f}\".format(model_test_mae))\n",
    "  print(\"-Mean Squared Error {:.4f}\".format(model_test_mse))\n",
    "  print(\"-Root Mean Squared Error {:.4f}\".format(model_test_rmse))\n",
    "  print(\"-R2 Score {:.4f}\".format(model_test_R2_score))\n",
    "  R2_Score.append(model_test_R2_score)\n",
    "\n",
    "  print(\"=\"*35)\n",
    "  print(\"\\n\")\n",
    "\n",
    "\n",
    "\n"
   ]
  },
  {
   "cell_type": "markdown",
   "metadata": {
    "id": "eMaEpErIqbD-"
   },
   "source": [
    "**Results**"
   ]
  },
  {
   "cell_type": "code",
   "execution_count": null,
   "metadata": {
    "colab": {
     "base_uri": "https://localhost:8080/",
     "height": 363
    },
    "id": "KsgDGWyCPcQl",
    "outputId": "22a3965a-7ca7-4b50-cc8d-717e32dc93b8"
   },
   "outputs": [],
   "source": [
    "pd.DataFrame(list(zip(model_list,R2_Score)),columns =['Model Name', 'R2_Score']).sort_values(by=[\"R2_Score\"],ascending = False)"
   ]
  },
  {
   "cell_type": "markdown",
   "metadata": {
    "id": "9F0EL0wBqn5u"
   },
   "source": [
    "# **LinearRegression**"
   ]
  },
  {
   "cell_type": "code",
   "execution_count": null,
   "metadata": {
    "colab": {
     "base_uri": "https://localhost:8080/",
     "height": 80
    },
    "id": "JzLBeT0fqGzo",
    "outputId": "6cf86bcc-8de2-4d00-b6bf-cde0660c8990"
   },
   "outputs": [],
   "source": [
    "model_LR = LinearRegression()\n",
    "model_LR.fit(x_train , y_train)"
   ]
  },
  {
   "cell_type": "code",
   "execution_count": null,
   "metadata": {
    "colab": {
     "base_uri": "https://localhost:8080/"
    },
    "id": "S7wtj7NxrEJ3",
    "outputId": "ab7136ac-2380-41fb-9fee-725298ad4ce2"
   },
   "outputs": [],
   "source": [
    "y_pred = model_LR.predict(x_test)\n",
    "score=r2_score(y_test,y_pred)*100\n",
    "print(\"R2 score of the model is %.2f\" %score)"
   ]
  },
  {
   "cell_type": "markdown",
   "metadata": {
    "id": "_3CjLryCtASr"
   },
   "source": [
    "**Plot y_pred and y_test**"
   ]
  },
  {
   "cell_type": "code",
   "execution_count": null,
   "metadata": {
    "colab": {
     "base_uri": "https://localhost:8080/",
     "height": 598
    },
    "id": "DPk5Xqd3s8-C",
    "outputId": "5f33f52e-3765-4eba-fb2c-fb190511e3bd"
   },
   "outputs": [],
   "source": [
    "plt.scatter(y_test,y_pred);\n",
    "plt.xlabel('Actual');\n",
    "plt.ylabel('Predicted');"
   ]
  },
  {
   "cell_type": "code",
   "execution_count": null,
   "metadata": {
    "colab": {
     "base_uri": "https://localhost:8080/",
     "height": 601
    },
    "id": "WpyJcwvds9DK",
    "outputId": "7da7dfbd-a500-4dc3-98f0-dc4603e7fea3"
   },
   "outputs": [],
   "source": [
    "sns.regplot(x=y_test,y=y_pred,ci=None,color ='red');"
   ]
  },
  {
   "cell_type": "markdown",
   "metadata": {
    "id": "8xotI7DbtU1f"
   },
   "source": [
    "**Difference between Actual and Predicted Values**"
   ]
  },
  {
   "cell_type": "code",
   "execution_count": null,
   "metadata": {
    "colab": {
     "base_uri": "https://localhost:8080/",
     "height": 423
    },
    "id": "ngAauBdHs9Hp",
    "outputId": "1ed7560f-a62c-469b-9caa-38258b7f57bb"
   },
   "outputs": [],
   "source": [
    "pred_df=pd.DataFrame({'Actual Value':y_test,'Predicted Value':y_pred,'Difference':y_test-y_pred})\n",
    "pred_df"
   ]
  },
  {
   "cell_type": "markdown",
   "metadata": {
    "id": "iJIAtdB6rSyJ"
   },
   "source": [
    "#**Hyper Param Tunning**"
   ]
  },
  {
   "cell_type": "code",
   "execution_count": null,
   "metadata": {
    "id": "fYRnyEehs0wy"
   },
   "outputs": [],
   "source": [
    "parameters ={ 'fit_intercept': [True, False],\n",
    "    'copy_X': [True, False],\n",
    "    'n_jobs': [1, -1]\n",
    "     }"
   ]
  },
  {
   "cell_type": "code",
   "execution_count": null,
   "metadata": {
    "id": "ZAr9FpUsrKm4"
   },
   "outputs": [],
   "source": [
    "random_search = RandomizedSearchCV(estimator=model_LR,param_distributions=parameters,n_iter=100,cv=5,verbose=2)"
   ]
  },
  {
   "cell_type": "code",
   "execution_count": null,
   "metadata": {
    "colab": {
     "base_uri": "https://localhost:8080/",
     "height": 892
    },
    "id": "d717xQjvrNYv",
    "outputId": "4460bc92-3890-4575-99cf-b0093e880838"
   },
   "outputs": [],
   "source": [
    "random_search.fit(x_train,y_train)"
   ]
  },
  {
   "cell_type": "code",
   "execution_count": null,
   "metadata": {
    "colab": {
     "base_uri": "https://localhost:8080/"
    },
    "id": "M9-MgEHyv0ap",
    "outputId": "504d7f3f-9a89-44a0-a904-65fefbf4b3d6"
   },
   "outputs": [],
   "source": [
    "random_search.best_params_"
   ]
  },
  {
   "cell_type": "code",
   "execution_count": null,
   "metadata": {
    "colab": {
     "base_uri": "https://localhost:8080/"
    },
    "id": "ltAYgCVPxaeI",
    "outputId": "0bed5890-6366-47b2-fc47-5683ea78707d"
   },
   "outputs": [],
   "source": [
    "random_search.best_score_"
   ]
  },
  {
   "cell_type": "code",
   "execution_count": null,
   "metadata": {
    "id": "pgJ6fwqjxfJw"
   },
   "outputs": [],
   "source": [
    "prediction = random_search.predict(x_test)"
   ]
  },
  {
   "cell_type": "code",
   "execution_count": null,
   "metadata": {
    "colab": {
     "base_uri": "https://localhost:8080/"
    },
    "id": "3GveGV_rxkwg",
    "outputId": "dd2a63e3-257f-44b3-bbd4-65ab0fed7288"
   },
   "outputs": [],
   "source": [
    "R2_Score =r2_score(y_test,prediction)\n",
    "R2_Score"
   ]
  },
  {
   "cell_type": "code",
   "execution_count": null,
   "metadata": {
    "id": "Mr6RkurdyK_S"
   },
   "outputs": [],
   "source": []
  }
 ],
 "metadata": {
  "colab": {
   "provenance": []
  },
  "kernelspec": {
   "display_name": "Python 3",
   "name": "python3"
  },
  "language_info": {
   "codemirror_mode": {
    "name": "ipython",
    "version": 3
   },
   "file_extension": ".py",
   "mimetype": "text/x-python",
   "name": "python",
   "nbconvert_exporter": "python",
   "pygments_lexer": "ipython3",
   "version": "3.12.0"
  }
 },
 "nbformat": 4,
 "nbformat_minor": 0
}
